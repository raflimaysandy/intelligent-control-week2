{
 "cells": [
  {
   "cell_type": "code",
   "execution_count": 1,
   "metadata": {},
   "outputs": [],
   "source": [
    "import numpy as np \n",
    "import joblib\n",
    "import pandas as pd \n",
    "import os \n",
    "from sklearn.neighbors import KNeighborsClassifier \n",
    "from sklearn.model_selection import train_test_split \n",
    "from sklearn.metrics import accuracy_score \n",
    "from sklearn.preprocessing import StandardScaler"
   ]
  },
  {
   "cell_type": "code",
   "execution_count": 2,
   "metadata": {},
   "outputs": [],
   "source": [
    "color_data= pd.read_csv('colors.csv') \n",
    "color_data.head()\n",
    "X = color_data[['B','G','R']].values\n",
    "y = color_data['color_name'].values\n",
    "# Normalisasi data\n",
    "X_scaler = StandardScaler()\n",
    "X_scaled = X_scaler.fit_transform(X)\n",
    "# Split dataset untuk training dan testing\n",
    "X_train, X_test, y_train, y_test = train_test_split(X_scaled, y, test_size=0.2, random_state=42)"
   ]
  },
  {
   "cell_type": "code",
   "execution_count": 3,
   "metadata": {},
   "outputs": [],
   "source": [
    "knn = KNeighborsClassifier(n_neighbors=1)\n",
    "knn.fit(X_train, y_train)\n",
    "y_pred = knn.predict(X_test)"
   ]
  },
  {
   "cell_type": "code",
   "execution_count": 4,
   "metadata": {},
   "outputs": [
    {
     "name": "stdout",
     "output_type": "stream",
     "text": [
      "Akurasi pada data latih: 89.31%\n"
     ]
    }
   ],
   "source": [
    "# Evaluasi model\n",
    "train_acc = accuracy_score(y_train, knn.predict(X_train))\n",
    "test_acc = accuracy_score(y_test, knn.predict(X_test))\n",
    "\n",
    "print(f\"Akurasi pada data latih: {train_acc * 100:.2f}%\")\n"
   ]
  },
  {
   "cell_type": "code",
   "execution_count": 5,
   "metadata": {},
   "outputs": [
    {
     "name": "stdout",
     "output_type": "stream",
     "text": [
      "Model berhasil disimpan!\n",
      "Scaler berhasil disimpan!\n"
     ]
    }
   ],
   "source": [
    "# Simpan model\n",
    "joblib.dump(knn, 'knn_model.pkl')\n",
    "print(\"Model berhasil disimpan!\")\n",
    "# Buat ulang dan simpan scaler\n",
    "scaler = StandardScaler()\n",
    "scaler.fit(X)  # Pastikan X adalah dataset yang digunakan sebelumnya\n",
    "joblib.dump(scaler, 'scaler.pkl')\n",
    "\n",
    "print(\"Scaler berhasil disimpan!\")"
   ]
  },
  {
   "cell_type": "code",
   "execution_count": 6,
   "metadata": {},
   "outputs": [],
   "source": [
    "import cv2\n",
    "import numpy as np \n",
    "\n",
    "# Muat model KNN dan scaler\n",
    "knn = joblib.load('knn_model.pkl')\n",
    "scaler = joblib.load('scaler.pkl')\n",
    "\n",
    "# Inisialisasi kamera\n",
    "cap = cv2.VideoCapture(0)\n",
    "\n",
    "while True:\n",
    "    ret, frame = cap.read()\n",
    "    if not ret:\n",
    "        break\n",
    "\n",
    "    # Ambil pixel tengah gambar\n",
    "    height, width, _ = frame.shape\n",
    "    pixel_center = frame[height // 2, width // 2]\n",
    "\n",
    "    # Normalisasi sebelum prediksi\n",
    "    pixel_center_scaled = scaler.transform([pixel_center])\n",
    "\n",
    "    # Prediksi warna\n",
    "    color_pred = knn.predict(pixel_center_scaled)[0]\n",
    "\n",
    "    # Tampilkan warna pada frame\n",
    "    cv2.putText(frame, f'Color: {color_pred}', (65, 50), cv2.FONT_HERSHEY_SIMPLEX, 1, (50, 205, 50), 2)\n",
    "    cv2.imshow('Frame', frame)\n",
    "\n",
    "    if cv2.waitKey(1) & 0xFF == ord('q'):\n",
    "        break\n",
    "\n",
    "cap.release()\n",
    "cv2.destroyAllWindows()\n"
   ]
  }
 ],
 "metadata": {
  "kernelspec": {
   "display_name": "Python 3",
   "language": "python",
   "name": "python3"
  },
  "language_info": {
   "codemirror_mode": {
    "name": "ipython",
    "version": 3
   },
   "file_extension": ".py",
   "mimetype": "text/x-python",
   "name": "python",
   "nbconvert_exporter": "python",
   "pygments_lexer": "ipython3",
   "version": "3.13.1"
  }
 },
 "nbformat": 4,
 "nbformat_minor": 2
}
